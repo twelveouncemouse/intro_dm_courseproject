{
 "cells": [
  {
   "cell_type": "code",
   "execution_count": 1,
   "metadata": {
    "collapsed": true
   },
   "outputs": [],
   "source": [
    "import pandas as pd\n",
    "import numpy as np\n",
    "import matplotlib.pylab as plt\n",
    "import statsmodels.api as sm\n",
    "from datetime import datetime\n",
    "plt.style.use('ggplot')\n",
    "%matplotlib inline"
   ]
  },
  {
   "cell_type": "code",
   "execution_count": 13,
   "metadata": {
    "collapsed": false
   },
   "outputs": [
    {
     "data": {
      "text/html": [
       "<div>\n",
       "<table border=\"1\" class=\"dataframe\">\n",
       "  <thead>\n",
       "    <tr style=\"text-align: right;\">\n",
       "      <th></th>\n",
       "      <th>OBJECTID</th>\n",
       "      <th>Identifier</th>\n",
       "      <th>Occurrence Date</th>\n",
       "      <th>Day of Week</th>\n",
       "      <th>Occurrence Month</th>\n",
       "      <th>Occurrence Day</th>\n",
       "      <th>Occurrence Year</th>\n",
       "      <th>Occurrence Hour</th>\n",
       "      <th>CompStat Month</th>\n",
       "      <th>CompStat Day</th>\n",
       "      <th>CompStat Year</th>\n",
       "      <th>Offense</th>\n",
       "      <th>Offense Classification</th>\n",
       "      <th>Sector</th>\n",
       "      <th>Precinct</th>\n",
       "      <th>Borough</th>\n",
       "      <th>Jurisdiction</th>\n",
       "      <th>XCoordinate</th>\n",
       "      <th>YCoordinate</th>\n",
       "      <th>Location 1</th>\n",
       "    </tr>\n",
       "  </thead>\n",
       "  <tbody>\n",
       "    <tr>\n",
       "      <th>0</th>\n",
       "      <td>1</td>\n",
       "      <td>f070032d</td>\n",
       "      <td>09/06/1940 07:30:00 PM</td>\n",
       "      <td>Friday</td>\n",
       "      <td>Sep</td>\n",
       "      <td>6</td>\n",
       "      <td>1940</td>\n",
       "      <td>19</td>\n",
       "      <td>9</td>\n",
       "      <td>7</td>\n",
       "      <td>2010</td>\n",
       "      <td>BURGLARY</td>\n",
       "      <td>FELONY</td>\n",
       "      <td>D</td>\n",
       "      <td>66</td>\n",
       "      <td>BROOKLYN</td>\n",
       "      <td>N.Y. POLICE DEPT</td>\n",
       "      <td>987478</td>\n",
       "      <td>166141</td>\n",
       "      <td>(40.6227027620001, -73.9883732929999)</td>\n",
       "    </tr>\n",
       "    <tr>\n",
       "      <th>1</th>\n",
       "      <td>2</td>\n",
       "      <td>c6245d4d</td>\n",
       "      <td>12/14/1968 12:20:00 AM</td>\n",
       "      <td>Saturday</td>\n",
       "      <td>Dec</td>\n",
       "      <td>14</td>\n",
       "      <td>1968</td>\n",
       "      <td>0</td>\n",
       "      <td>12</td>\n",
       "      <td>14</td>\n",
       "      <td>2008</td>\n",
       "      <td>GRAND LARCENY</td>\n",
       "      <td>FELONY</td>\n",
       "      <td>G</td>\n",
       "      <td>28</td>\n",
       "      <td>MANHATTAN</td>\n",
       "      <td>N.Y. POLICE DEPT</td>\n",
       "      <td>996470</td>\n",
       "      <td>232106</td>\n",
       "      <td>(40.8037530600001, -73.955861904)</td>\n",
       "    </tr>\n",
       "    <tr>\n",
       "      <th>2</th>\n",
       "      <td>3</td>\n",
       "      <td>716dbc6f</td>\n",
       "      <td>10/30/1970 03:30:00 PM</td>\n",
       "      <td>Friday</td>\n",
       "      <td>Oct</td>\n",
       "      <td>30</td>\n",
       "      <td>1970</td>\n",
       "      <td>15</td>\n",
       "      <td>10</td>\n",
       "      <td>31</td>\n",
       "      <td>2008</td>\n",
       "      <td>BURGLARY</td>\n",
       "      <td>FELONY</td>\n",
       "      <td>H</td>\n",
       "      <td>84</td>\n",
       "      <td>BROOKLYN</td>\n",
       "      <td>N.Y. POLICE DEPT</td>\n",
       "      <td>986508</td>\n",
       "      <td>190249</td>\n",
       "      <td>(40.688874254, -73.9918594329999)</td>\n",
       "    </tr>\n",
       "    <tr>\n",
       "      <th>3</th>\n",
       "      <td>4</td>\n",
       "      <td>638cd7b7</td>\n",
       "      <td>07/18/1972 11:00:00 PM</td>\n",
       "      <td>Tuesday</td>\n",
       "      <td>Jul</td>\n",
       "      <td>18</td>\n",
       "      <td>1972</td>\n",
       "      <td>23</td>\n",
       "      <td>7</td>\n",
       "      <td>19</td>\n",
       "      <td>2012</td>\n",
       "      <td>GRAND LARCENY OF MOTOR VEHICLE</td>\n",
       "      <td>FELONY</td>\n",
       "      <td>F</td>\n",
       "      <td>73</td>\n",
       "      <td>BROOKLYN</td>\n",
       "      <td>N.Y. POLICE DEPT</td>\n",
       "      <td>1005876</td>\n",
       "      <td>182440</td>\n",
       "      <td>(40.6674141890001, -73.9220463899999)</td>\n",
       "    </tr>\n",
       "    <tr>\n",
       "      <th>4</th>\n",
       "      <td>5</td>\n",
       "      <td>6e410287</td>\n",
       "      <td>05/21/1987 12:01:00 AM</td>\n",
       "      <td>Thursday</td>\n",
       "      <td>May</td>\n",
       "      <td>21</td>\n",
       "      <td>1987</td>\n",
       "      <td>0</td>\n",
       "      <td>5</td>\n",
       "      <td>28</td>\n",
       "      <td>2009</td>\n",
       "      <td>GRAND LARCENY</td>\n",
       "      <td>FELONY</td>\n",
       "      <td>K</td>\n",
       "      <td>75</td>\n",
       "      <td>BROOKLYN</td>\n",
       "      <td>N.Y. POLICE DEPT</td>\n",
       "      <td>1017958</td>\n",
       "      <td>182266</td>\n",
       "      <td>(40.6668988440001, -73.878495425)</td>\n",
       "    </tr>\n",
       "  </tbody>\n",
       "</table>\n",
       "</div>"
      ],
      "text/plain": [
       "   OBJECTID Identifier         Occurrence Date Day of Week Occurrence Month  \\\n",
       "0         1   f070032d  09/06/1940 07:30:00 PM      Friday              Sep   \n",
       "1         2   c6245d4d  12/14/1968 12:20:00 AM    Saturday              Dec   \n",
       "2         3   716dbc6f  10/30/1970 03:30:00 PM      Friday              Oct   \n",
       "3         4   638cd7b7  07/18/1972 11:00:00 PM     Tuesday              Jul   \n",
       "4         5   6e410287  05/21/1987 12:01:00 AM    Thursday              May   \n",
       "\n",
       "   Occurrence Day  Occurrence Year  Occurrence Hour  CompStat Month  \\\n",
       "0               6             1940               19               9   \n",
       "1              14             1968                0              12   \n",
       "2              30             1970               15              10   \n",
       "3              18             1972               23               7   \n",
       "4              21             1987                0               5   \n",
       "\n",
       "   CompStat Day  CompStat Year                         Offense  \\\n",
       "0             7           2010                        BURGLARY   \n",
       "1            14           2008                   GRAND LARCENY   \n",
       "2            31           2008                        BURGLARY   \n",
       "3            19           2012  GRAND LARCENY OF MOTOR VEHICLE   \n",
       "4            28           2009                   GRAND LARCENY   \n",
       "\n",
       "  Offense Classification Sector  Precinct    Borough      Jurisdiction  \\\n",
       "0                 FELONY      D        66   BROOKLYN  N.Y. POLICE DEPT   \n",
       "1                 FELONY      G        28  MANHATTAN  N.Y. POLICE DEPT   \n",
       "2                 FELONY      H        84   BROOKLYN  N.Y. POLICE DEPT   \n",
       "3                 FELONY      F        73   BROOKLYN  N.Y. POLICE DEPT   \n",
       "4                 FELONY      K        75   BROOKLYN  N.Y. POLICE DEPT   \n",
       "\n",
       "   XCoordinate  YCoordinate                             Location 1  \n",
       "0       987478       166141  (40.6227027620001, -73.9883732929999)  \n",
       "1       996470       232106      (40.8037530600001, -73.955861904)  \n",
       "2       986508       190249      (40.688874254, -73.9918594329999)  \n",
       "3      1005876       182440  (40.6674141890001, -73.9220463899999)  \n",
       "4      1017958       182266      (40.6668988440001, -73.878495425)  "
      ]
     },
     "execution_count": 13,
     "metadata": {},
     "output_type": "execute_result"
    }
   ],
   "source": [
    "data = pd.read_csv('NYPD_7_Major_Felony_Incident_Map.csv')\n",
    "data.head()"
   ]
  },
  {
   "cell_type": "code",
   "execution_count": 45,
   "metadata": {
    "collapsed": false
   },
   "outputs": [
    {
     "data": {
      "text/html": [
       "<div>\n",
       "<table border=\"1\" class=\"dataframe\">\n",
       "  <thead>\n",
       "    <tr style=\"text-align: right;\">\n",
       "      <th></th>\n",
       "      <th>Occurrence Month</th>\n",
       "      <th>Occurrence Day</th>\n",
       "      <th>Identifier</th>\n",
       "    </tr>\n",
       "  </thead>\n",
       "  <tbody>\n",
       "    <tr>\n",
       "      <th>730350</th>\n",
       "      <td>Aug</td>\n",
       "      <td>7</td>\n",
       "      <td>4422e3f8</td>\n",
       "    </tr>\n",
       "    <tr>\n",
       "      <th>730351</th>\n",
       "      <td>Aug</td>\n",
       "      <td>7</td>\n",
       "      <td>8158857c</td>\n",
       "    </tr>\n",
       "    <tr>\n",
       "      <th>730352</th>\n",
       "      <td>Aug</td>\n",
       "      <td>7</td>\n",
       "      <td>da28fa10</td>\n",
       "    </tr>\n",
       "    <tr>\n",
       "      <th>730353</th>\n",
       "      <td>Aug</td>\n",
       "      <td>7</td>\n",
       "      <td>1a920563</td>\n",
       "    </tr>\n",
       "    <tr>\n",
       "      <th>730678</th>\n",
       "      <td>Aug</td>\n",
       "      <td>7</td>\n",
       "      <td>6a614fd1</td>\n",
       "    </tr>\n",
       "  </tbody>\n",
       "</table>\n",
       "</div>"
      ],
      "text/plain": [
       "       Occurrence Month  Occurrence Day Identifier\n",
       "730350              Aug               7   4422e3f8\n",
       "730351              Aug               7   8158857c\n",
       "730352              Aug               7   da28fa10\n",
       "730353              Aug               7   1a920563\n",
       "730678              Aug               7   6a614fd1"
      ]
     },
     "execution_count": 45,
     "metadata": {},
     "output_type": "execute_result"
    }
   ],
   "source": [
    "brooklyn_slice = data[(data[\"Occurrence Year\"] == 2015) & (data[\"Borough\"] == \"BRONX\")]\n",
    "brooklyn_slice = brooklyn_slice[[\"Occurrence Month\", \"Occurrence Day\", \"Identifier\"]]\n",
    "brooklyn_slice = brooklyn_slice[(brooklyn_slice[\"Occurrence Month\"] == \"Aug\") |\n",
    "                                (brooklyn_slice[\"Occurrence Month\"] == \"Jul\") |\n",
    "                               (brooklyn_slice[\"Occurrence Month\"] == \"Jun\")]\n",
    "brooklyn_slice.head()"
   ]
  },
  {
   "cell_type": "code",
   "execution_count": 46,
   "metadata": {
    "collapsed": false
   },
   "outputs": [
    {
     "data": {
      "text/plain": [
       "array([83, 88, 70, 69, 77, 63, 65, 76, 51, 67, 67, 77, 87, 85, 76, 67, 55,\n",
       "       65, 73, 78, 73, 73, 82, 64, 76, 60, 53, 76, 61, 70, 81, 64, 49, 67,\n",
       "       54, 63, 62, 60, 59, 60, 50, 62, 73, 71, 43, 57, 68, 64, 68, 83, 56,\n",
       "       60, 64, 62, 80, 76, 76, 63, 79, 62, 62, 72, 75, 43, 38, 52, 50, 55,\n",
       "       48, 60, 58, 49, 40, 68, 66, 45, 48, 46, 66, 49, 59, 68, 60, 60, 64,\n",
       "       55, 44, 61, 60, 54, 54, 63], dtype=int64)"
      ]
     },
     "execution_count": 46,
     "metadata": {},
     "output_type": "execute_result"
    }
   ],
   "source": [
    "df = brooklyn_slice.groupby([\"Occurrence Month\", \"Occurrence Day\"]).count()\n",
    "data_to_check = df[\"Identifier\"].values\n",
    "data_to_check"
   ]
  },
  {
   "cell_type": "code",
   "execution_count": 47,
   "metadata": {
    "collapsed": true
   },
   "outputs": [],
   "source": [
    "series = pd.Series(data_to_check)"
   ]
  },
  {
   "cell_type": "code",
   "execution_count": 49,
   "metadata": {
    "collapsed": false
   },
   "outputs": [
    {
     "data": {
      "text/plain": [
       "<matplotlib.axes._subplots.AxesSubplot at 0x22647400>"
      ]
     },
     "execution_count": 49,
     "metadata": {},
     "output_type": "execute_result"
    },
    {
     "data": {
      "image/png": "[encoded data removed]",
      "text/plain": [
       "<matplotlib.figure.Figure at 0x2264a588>"
      ]
     },
     "metadata": {},
     "output_type": "display_data"
    }
   ],
   "source": [
    "series.hist(bins=12)"
   ]
  },
  {
   "cell_type": "code",
   "execution_count": null,
   "metadata": {
    "collapsed": true
   },
   "outputs": [],
   "source": []
  }
 ],
 "metadata": {
  "kernelspec": {
   "display_name": "Python 2",
   "language": "python",
   "name": "python2"
  },
  "language_info": {
   "codemirror_mode": {
    "name": "ipython",
    "version": 2
   },
   "file_extension": ".py",
   "mimetype": "text/x-python",
   "name": "python",
   "nbconvert_exporter": "python",
   "pygments_lexer": "ipython2",
   "version": "2.7.11"
  }
 },
 "nbformat": 4,
 "nbformat_minor": 0
}
